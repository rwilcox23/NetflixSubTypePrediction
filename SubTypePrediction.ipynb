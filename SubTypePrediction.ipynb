{
 "cells": [
  {
   "attachments": {},
   "cell_type": "markdown",
   "metadata": {},
   "source": [
    "# <u>**Netflix Subscription Type Prediction**</u>"
   ]
  },
  {
   "attachments": {},
   "cell_type": "markdown",
   "metadata": {},
   "source": [
    "## Step 1: Data Loading and Pre-processing\n",
    "\n",
    "First, we need to install the required libraries and import them."
   ]
  },
  {
   "cell_type": "code",
   "execution_count": 1,
   "metadata": {},
   "outputs": [
    {
     "name": "stdout",
     "output_type": "stream",
     "text": [
      "Requirement already satisfied: pandas in ./.venv/lib/python3.9/site-packages (2.0.3)\n",
      "Requirement already satisfied: python-dateutil>=2.8.2 in ./.venv/lib/python3.9/site-packages (from pandas) (2.8.2)\n",
      "Requirement already satisfied: pytz>=2020.1 in ./.venv/lib/python3.9/site-packages (from pandas) (2023.3)\n",
      "Requirement already satisfied: tzdata>=2022.1 in ./.venv/lib/python3.9/site-packages (from pandas) (2023.3)\n",
      "Requirement already satisfied: numpy>=1.20.3 in ./.venv/lib/python3.9/site-packages (from pandas) (1.25.0)\n",
      "Requirement already satisfied: six>=1.5 in ./.venv/lib/python3.9/site-packages (from python-dateutil>=2.8.2->pandas) (1.16.0)\n",
      "Requirement already satisfied: numpy in ./.venv/lib/python3.9/site-packages (1.25.0)\n",
      "Requirement already satisfied: scikit-learn in ./.venv/lib/python3.9/site-packages (1.3.0)\n",
      "Requirement already satisfied: numpy>=1.17.3 in ./.venv/lib/python3.9/site-packages (from scikit-learn) (1.25.0)\n",
      "Requirement already satisfied: scipy>=1.5.0 in ./.venv/lib/python3.9/site-packages (from scikit-learn) (1.11.1)\n",
      "Requirement already satisfied: joblib>=1.1.1 in ./.venv/lib/python3.9/site-packages (from scikit-learn) (1.3.1)\n",
      "Requirement already satisfied: threadpoolctl>=2.0.0 in ./.venv/lib/python3.9/site-packages (from scikit-learn) (3.1.0)\n",
      "Requirement already satisfied: seaborn in ./.venv/lib/python3.9/site-packages (0.12.2)\n",
      "Requirement already satisfied: numpy!=1.24.0,>=1.17 in ./.venv/lib/python3.9/site-packages (from seaborn) (1.25.0)\n",
      "Requirement already satisfied: pandas>=0.25 in ./.venv/lib/python3.9/site-packages (from seaborn) (2.0.3)\n",
      "Requirement already satisfied: matplotlib!=3.6.1,>=3.1 in ./.venv/lib/python3.9/site-packages (from seaborn) (3.7.2)\n",
      "Requirement already satisfied: contourpy>=1.0.1 in ./.venv/lib/python3.9/site-packages (from matplotlib!=3.6.1,>=3.1->seaborn) (1.1.0)\n",
      "Requirement already satisfied: cycler>=0.10 in ./.venv/lib/python3.9/site-packages (from matplotlib!=3.6.1,>=3.1->seaborn) (0.11.0)\n",
      "Requirement already satisfied: fonttools>=4.22.0 in ./.venv/lib/python3.9/site-packages (from matplotlib!=3.6.1,>=3.1->seaborn) (4.40.0)\n",
      "Requirement already satisfied: kiwisolver>=1.0.1 in ./.venv/lib/python3.9/site-packages (from matplotlib!=3.6.1,>=3.1->seaborn) (1.4.4)\n",
      "Requirement already satisfied: packaging>=20.0 in ./.venv/lib/python3.9/site-packages (from matplotlib!=3.6.1,>=3.1->seaborn) (23.1)\n",
      "Requirement already satisfied: pillow>=6.2.0 in ./.venv/lib/python3.9/site-packages (from matplotlib!=3.6.1,>=3.1->seaborn) (10.0.0)\n",
      "Requirement already satisfied: pyparsing<3.1,>=2.3.1 in ./.venv/lib/python3.9/site-packages (from matplotlib!=3.6.1,>=3.1->seaborn) (3.0.9)\n",
      "Requirement already satisfied: python-dateutil>=2.7 in ./.venv/lib/python3.9/site-packages (from matplotlib!=3.6.1,>=3.1->seaborn) (2.8.2)\n",
      "Requirement already satisfied: importlib-resources>=3.2.0 in ./.venv/lib/python3.9/site-packages (from matplotlib!=3.6.1,>=3.1->seaborn) (5.12.0)\n",
      "Requirement already satisfied: pytz>=2020.1 in ./.venv/lib/python3.9/site-packages (from pandas>=0.25->seaborn) (2023.3)\n",
      "Requirement already satisfied: tzdata>=2022.1 in ./.venv/lib/python3.9/site-packages (from pandas>=0.25->seaborn) (2023.3)\n",
      "Requirement already satisfied: zipp>=3.1.0 in ./.venv/lib/python3.9/site-packages (from importlib-resources>=3.2.0->matplotlib!=3.6.1,>=3.1->seaborn) (3.15.0)\n",
      "Requirement already satisfied: six>=1.5 in ./.venv/lib/python3.9/site-packages (from python-dateutil>=2.7->matplotlib!=3.6.1,>=3.1->seaborn) (1.16.0)\n"
     ]
    }
   ],
   "source": [
    "# Installing necessary libraries\n",
    "!pip install pandas\n",
    "!pip install numpy\n",
    "!pip install scikit-learn\n",
    "!pip install seaborn\n",
    "\n",
    "\n",
    "# Importing necessary libraries\n",
    "import pandas as pd\n",
    "import numpy as np\n",
    "import seaborn as sns\n",
    "from sklearn.model_selection import train_test_split\n",
    "from sklearn.preprocessing import LabelEncoder"
   ]
  },
  {
   "attachments": {},
   "cell_type": "markdown",
   "metadata": {},
   "source": [
    "Next, we load the dataset and take a look at the first few rows of the dataset."
   ]
  },
  {
   "cell_type": "code",
   "execution_count": 2,
   "metadata": {},
   "outputs": [
    {
     "name": "stdout",
     "output_type": "stream",
     "text": [
      "   User ID Subscription Type  Monthly Revenue Join Date Last Payment Date  \\\n",
      "0        1             Basic               10  15-01-22          10-06-23   \n",
      "1        2           Premium               15  05-09-21          22-06-23   \n",
      "2        3          Standard               12  28-02-23          27-06-23   \n",
      "3        4          Standard               12  10-07-22          26-06-23   \n",
      "4        5             Basic               10  01-05-23          28-06-23   \n",
      "\n",
      "          Country  Age  Gender      Device Plan Duration  \n",
      "0   United States   28    Male  Smartphone       1 Month  \n",
      "1          Canada   35  Female      Tablet       1 Month  \n",
      "2  United Kingdom   42    Male    Smart TV       1 Month  \n",
      "3       Australia   51  Female      Laptop       1 Month  \n",
      "4         Germany   33    Male  Smartphone       1 Month  \n"
     ]
    }
   ],
   "source": [
    "# Load the dataset\n",
    "df = pd.read_csv('/Users/rwilcox/Projects/Netflix Project/Netflix Userbase.csv')\n",
    "\n",
    "# Take a look at the first few rows of the DataFrame.\n",
    "print(df.head())\n"
   ]
  },
  {
   "attachments": {},
   "cell_type": "markdown",
   "metadata": {},
   "source": [
    "Now, we'll perform some basic pre-processing.  Let's check if there are any missing values in the data. If there are, we'll need to make a decision on how to handle them - for example, we could remove those rows or columns, or fill the missing values with a specified method (like the mean or the median of that column)."
   ]
  },
  {
   "cell_type": "code",
   "execution_count": 3,
   "metadata": {},
   "outputs": [
    {
     "name": "stdout",
     "output_type": "stream",
     "text": [
      "User ID              0\n",
      "Subscription Type    0\n",
      "Monthly Revenue      0\n",
      "Join Date            0\n",
      "Last Payment Date    0\n",
      "Country              0\n",
      "Age                  0\n",
      "Gender               0\n",
      "Device               0\n",
      "Plan Duration        0\n",
      "dtype: int64\n"
     ]
    }
   ],
   "source": [
    "# Check for missing values\n",
    "print(df.isnull().sum())"
   ]
  },
  {
   "attachments": {},
   "cell_type": "markdown",
   "metadata": {},
   "source": [
    "We will drop the `User ID`, `Join Date`, `Last Payment Date` and `Plan Duration` columns as they are not required for our analysis.  We will drop `Monthly Revenue` as it is highly correlated with our target variable `Subscription Type`.  "
   ]
  },
  {
   "cell_type": "code",
   "execution_count": 4,
   "metadata": {},
   "outputs": [],
   "source": [
    "df = df.drop(['User ID','Monthly Revenue','Join Date', 'Last Payment Date', 'Plan Duration'], axis=1)"
   ]
  },
  {
   "attachments": {},
   "cell_type": "markdown",
   "metadata": {},
   "source": [
    "Since there are no missing values, next we need to convert categorical data to numerical, as machine learning algorithms work better with numerical data. We'll use `LabelEncoder` from `sklearn.preprocessing` to do this.  Lastly, we will map out each variable for reference."
   ]
  },
  {
   "cell_type": "code",
   "execution_count": 5,
   "metadata": {},
   "outputs": [
    {
     "name": "stdout",
     "output_type": "stream",
     "text": [
      "Subscription Type mapping:\n",
      "Basic --> 0\n",
      "Premium --> 1\n",
      "Standard --> 2\n",
      "\n",
      "Country mapping:\n",
      "Australia --> 0\n",
      "Brazil --> 1\n",
      "Canada --> 2\n",
      "France --> 3\n",
      "Germany --> 4\n",
      "Italy --> 5\n",
      "Mexico --> 6\n",
      "Spain --> 7\n",
      "United Kingdom --> 8\n",
      "United States --> 9\n",
      "\n",
      "Gender mapping:\n",
      "Female --> 0\n",
      "Male --> 1\n",
      "\n",
      "Device mapping:\n",
      "Laptop --> 0\n",
      "Smart TV --> 1\n",
      "Smartphone --> 2\n",
      "Tablet --> 3\n"
     ]
    }
   ],
   "source": [
    "# Create a label encoder object\n",
    "le = LabelEncoder()\n",
    "\n",
    "# Convert each categorical variable to numeric and print out each mapping\n",
    "df['Subscription Type'] = le.fit_transform(df['Subscription Type'])\n",
    "print(\"Subscription Type mapping:\")\n",
    "for i, category in enumerate(le.classes_):\n",
    "    print(f\"{category} --> {i}\")\n",
    "\n",
    "# Repeat for other columns\n",
    "df['Country'] = le.fit_transform(df['Country'])\n",
    "print(\"\\nCountry mapping:\")\n",
    "for i, category in enumerate(le.classes_):\n",
    "    print(f\"{category} --> {i}\")\n",
    "\n",
    "df['Gender'] = le.fit_transform(df['Gender'])\n",
    "print(\"\\nGender mapping:\")\n",
    "for i, category in enumerate(le.classes_):\n",
    "    print(f\"{category} --> {i}\")\n",
    "\n",
    "df['Device'] = le.fit_transform(df['Device'])\n",
    "print(\"\\nDevice mapping:\")\n",
    "for i, category in enumerate(le.classes_):\n",
    "    print(f\"{category} --> {i}\")"
   ]
  },
  {
   "attachments": {},
   "cell_type": "markdown",
   "metadata": {},
   "source": [
    "After this, the data is ready for EDA (exploratory data analysis) and then to be split into a training set and a test set."
   ]
  },
  {
   "attachments": {},
   "cell_type": "markdown",
   "metadata": {},
   "source": [
    "## Step 2: Exploratory Data Analysis (EDA)"
   ]
  },
  {
   "attachments": {},
   "cell_type": "markdown",
   "metadata": {},
   "source": [
    "EDA involves making sense of the data we have. Here we'll generate some simple descriptive statistics and visualizations to understand the underlying structure and relationships within our data.\n",
    "\n",
    "Let's start by getting descriptive statistics for our DataFrame:"
   ]
  },
  {
   "cell_type": "code",
   "execution_count": 6,
   "metadata": {},
   "outputs": [
    {
     "name": "stdout",
     "output_type": "stream",
     "text": [
      "       Subscription Type      Country          Age       Gender       Device\n",
      "count        2500.000000  2500.000000  2500.000000  2500.000000  2500.000000\n",
      "mean            0.907600     5.116400    38.795600     0.497200     1.500400\n",
      "std             0.835788     2.972942     7.171778     0.500092     1.125036\n",
      "min             0.000000     0.000000    26.000000     0.000000     0.000000\n",
      "25%             0.000000     2.000000    32.000000     0.000000     0.000000\n",
      "50%             1.000000     6.000000    39.000000     0.000000     2.000000\n",
      "75%             2.000000     8.000000    45.000000     1.000000     3.000000\n",
      "max             2.000000     9.000000    51.000000     1.000000     3.000000\n"
     ]
    }
   ],
   "source": [
    "print(df.describe())"
   ]
  },
  {
   "attachments": {},
   "cell_type": "markdown",
   "metadata": {},
   "source": [
    "This will provide a summary of the numeric columns in your DataFrame.\n",
    "\n",
    "Next, you might want to know how balanced your target variable 'subscription_type' is, i.e., how many instances there are of each class."
   ]
  },
  {
   "cell_type": "code",
   "execution_count": 7,
   "metadata": {},
   "outputs": [
    {
     "name": "stdout",
     "output_type": "stream",
     "text": [
      "Subscription Type\n",
      "0    999\n",
      "2    768\n",
      "1    733\n",
      "Name: count, dtype: int64\n"
     ]
    }
   ],
   "source": [
    "print(df['Subscription Type'].value_counts())"
   ]
  },
  {
   "attachments": {},
   "cell_type": "markdown",
   "metadata": {},
   "source": [
    "It's important to understand the distribution of the target variable because if it's highly imbalanced, we may need to consider techniques like resampling or using a different evaluation metric.\n",
    "\n",
    "To visualize the data, we can use libraries like Matplotlib or Seaborn. For instance, let's see how subscription type is distributed across different countries:"
   ]
  },
  {
   "cell_type": "code",
   "execution_count": 8,
   "metadata": {},
   "outputs": [
    {
     "data": {
      "image/png": "[encoded data removed]",
      "text/plain": [
       "<Figure size 640x480 with 1 Axes>"
      ]
     },
     "metadata": {},
     "output_type": "display_data"
    }
   ],
   "source": [
    "import seaborn as sns\n",
    "import matplotlib.pyplot as plt\n",
    "\n",
    "sns.countplot(x='Country', hue='Subscription Type', data=df)\n",
    "plt.title('Subscription Type Distribution Across Countries')\n",
    "plt.show()\n"
   ]
  },
  {
   "attachments": {},
   "cell_type": "markdown",
   "metadata": {},
   "source": [
    "We can generate more plots to understand relationships between different variables. The goal of this step is to gain insights that could help in feature engineering and model selection.\n",
    "\n",
    "Once we've completed this, we can move on to creating the model."
   ]
  },
  {
   "attachments": {},
   "cell_type": "markdown",
   "metadata": {},
   "source": [
    "## Step 3: Splitting the Dataset"
   ]
  },
  {
   "attachments": {},
   "cell_type": "markdown",
   "metadata": {},
   "source": [
    "Before we train our model, we'll need to split the data into a training set and a test set. This allows us to evaluate how our model will perform on unseen data."
   ]
  },
  {
   "cell_type": "code",
   "execution_count": 9,
   "metadata": {},
   "outputs": [],
   "source": [
    "from sklearn.model_selection import train_test_split\n",
    "\n",
    "# We first define our 'X' and 'y' variables\n",
    "X = df.drop('Subscription Type', axis=1)\n",
    "y = df['Subscription Type']\n",
    "\n",
    "# Split the data into training and test sets\n",
    "X_train, X_test, y_train, y_test = train_test_split(X, y, test_size=0.2, random_state=42)\n",
    "\n",
    "# The test_size=0.2 inside the function indicates the percentage of the data that should be held over for testing. It’s usually around 80/20 or 70/30.\n"
   ]
  },
  {
   "attachments": {},
   "cell_type": "markdown",
   "metadata": {},
   "source": [
    "## Step 4: Building the Model"
   ]
  },
  {
   "attachments": {},
   "cell_type": "markdown",
   "metadata": {},
   "source": [
    "Next, we'll build our Random Forest model and fit it on the training data:"
   ]
  },
  {
   "cell_type": "code",
   "execution_count": 10,
   "metadata": {},
   "outputs": [
    {
     "data": {
      "text/html": [
       "<style>#sk-container-id-1 {color: black;}#sk-container-id-1 pre{padding: 0;}#sk-container-id-1 div.sk-toggleable {background-color: white;}#sk-container-id-1 label.sk-toggleable__label {cursor: pointer;display: block;width: 100%;margin-bottom: 0;padding: 0.3em;box-sizing: border-box;text-align: center;}#sk-container-id-1 label.sk-toggleable__label-arrow:before {content: \"▸\";float: left;margin-right: 0.25em;color: #696969;}#sk-container-id-1 label.sk-toggleable__label-arrow:hover:before {color: black;}#sk-container-id-1 div.sk-estimator:hover label.sk-toggleable__label-arrow:before {color: black;}#sk-container-id-1 div.sk-toggleable__content {max-height: 0;max-width: 0;overflow: hidden;text-align: left;background-color: #f0f8ff;}#sk-container-id-1 div.sk-toggleable__content pre {margin: 0.2em;color: black;border-radius: 0.25em;background-color: #f0f8ff;}#sk-container-id-1 input.sk-toggleable__control:checked~div.sk-toggleable__content {max-height: 200px;max-width: 100%;overflow: auto;}#sk-container-id-1 input.sk-toggleable__control:checked~label.sk-toggleable__label-arrow:before {content: \"▾\";}#sk-container-id-1 div.sk-estimator input.sk-toggleable__control:checked~label.sk-toggleable__label {background-color: #d4ebff;}#sk-container-id-1 div.sk-label input.sk-toggleable__control:checked~label.sk-toggleable__label {background-color: #d4ebff;}#sk-container-id-1 input.sk-hidden--visually {border: 0;clip: rect(1px 1px 1px 1px);clip: rect(1px, 1px, 1px, 1px);height: 1px;margin: -1px;overflow: hidden;padding: 0;position: absolute;width: 1px;}#sk-container-id-1 div.sk-estimator {font-family: monospace;background-color: #f0f8ff;border: 1px dotted black;border-radius: 0.25em;box-sizing: border-box;margin-bottom: 0.5em;}#sk-container-id-1 div.sk-estimator:hover {background-color: #d4ebff;}#sk-container-id-1 div.sk-parallel-item::after {content: \"\";width: 100%;border-bottom: 1px solid gray;flex-grow: 1;}#sk-container-id-1 div.sk-label:hover label.sk-toggleable__label {background-color: #d4ebff;}#sk-container-id-1 div.sk-serial::before {content: \"\";position: absolute;border-left: 1px solid gray;box-sizing: border-box;top: 0;bottom: 0;left: 50%;z-index: 0;}#sk-container-id-1 div.sk-serial {display: flex;flex-direction: column;align-items: center;background-color: white;padding-right: 0.2em;padding-left: 0.2em;position: relative;}#sk-container-id-1 div.sk-item {position: relative;z-index: 1;}#sk-container-id-1 div.sk-parallel {display: flex;align-items: stretch;justify-content: center;background-color: white;position: relative;}#sk-container-id-1 div.sk-item::before, #sk-container-id-1 div.sk-parallel-item::before {content: \"\";position: absolute;border-left: 1px solid gray;box-sizing: border-box;top: 0;bottom: 0;left: 50%;z-index: -1;}#sk-container-id-1 div.sk-parallel-item {display: flex;flex-direction: column;z-index: 1;position: relative;background-color: white;}#sk-container-id-1 div.sk-parallel-item:first-child::after {align-self: flex-end;width: 50%;}#sk-container-id-1 div.sk-parallel-item:last-child::after {align-self: flex-start;width: 50%;}#sk-container-id-1 div.sk-parallel-item:only-child::after {width: 0;}#sk-container-id-1 div.sk-dashed-wrapped {border: 1px dashed gray;margin: 0 0.4em 0.5em 0.4em;box-sizing: border-box;padding-bottom: 0.4em;background-color: white;}#sk-container-id-1 div.sk-label label {font-family: monospace;font-weight: bold;display: inline-block;line-height: 1.2em;}#sk-container-id-1 div.sk-label-container {text-align: center;}#sk-container-id-1 div.sk-container {/* jupyter's `normalize.less` sets `[hidden] { display: none; }` but bootstrap.min.css set `[hidden] { display: none !important; }` so we also need the `!important` here to be able to override the default hidden behavior on the sphinx rendered scikit-learn.org. See: https://github.com/scikit-learn/scikit-learn/issues/21755 */display: inline-block !important;position: relative;}#sk-container-id-1 div.sk-text-repr-fallback {display: none;}</style><div id=\"sk-container-id-1\" class=\"sk-top-container\"><div class=\"sk-text-repr-fallback\"><pre>RandomForestClassifier(random_state=42)</pre><b>In a Jupyter environment, please rerun this cell to show the HTML representation or trust the notebook. <br />On GitHub, the HTML representation is unable to render, please try loading this page with nbviewer.org.</b></div><div class=\"sk-container\" hidden><div class=\"sk-item\"><div class=\"sk-estimator sk-toggleable\"><input class=\"sk-toggleable__control sk-hidden--visually\" id=\"sk-estimator-id-1\" type=\"checkbox\" checked><label for=\"sk-estimator-id-1\" class=\"sk-toggleable__label sk-toggleable__label-arrow\">RandomForestClassifier</label><div class=\"sk-toggleable__content\"><pre>RandomForestClassifier(random_state=42)</pre></div></div></div></div></div>"
      ],
      "text/plain": [
       "RandomForestClassifier(random_state=42)"
      ]
     },
     "execution_count": 10,
     "metadata": {},
     "output_type": "execute_result"
    }
   ],
   "source": [
    "from sklearn.ensemble import RandomForestClassifier\n",
    "\n",
    "# Initialize the model\n",
    "model = RandomForestClassifier(random_state=42)\n",
    "\n",
    "# Fit the model\n",
    "model.fit(X_train, y_train)"
   ]
  },
  {
   "attachments": {},
   "cell_type": "markdown",
   "metadata": {},
   "source": [
    "That's it for model building. For now, we're using default parameters for our Random Forest. There are many parameters we could tune to improve the performance of the model, but for simplicity, we'll stick with the defaults."
   ]
  },
  {
   "attachments": {},
   "cell_type": "markdown",
   "metadata": {},
   "source": [
    "## Step 5: Model Evaluation"
   ]
  },
  {
   "attachments": {},
   "cell_type": "markdown",
   "metadata": {},
   "source": [
    "Now that we've trained our Random Forest model, we'll want to evaluate its performance. We'll first use it to make predictions on our test set, and then we'll compare these predictions to the actual values."
   ]
  },
  {
   "cell_type": "code",
   "execution_count": 11,
   "metadata": {},
   "outputs": [],
   "source": [
    "# Use the model to make predictions on the test set\n",
    "y_pred = model.predict(X_test)"
   ]
  },
  {
   "attachments": {},
   "cell_type": "markdown",
   "metadata": {},
   "source": [
    "For a classification problem like this, there are several metrics we can use to evaluate our model's performance. Let's start with accuracy:"
   ]
  },
  {
   "cell_type": "code",
   "execution_count": 12,
   "metadata": {},
   "outputs": [
    {
     "name": "stdout",
     "output_type": "stream",
     "text": [
      "Model accuracy: 0.56\n"
     ]
    }
   ],
   "source": [
    "from sklearn.metrics import accuracy_score\n",
    "\n",
    "# Calculate the accuracy of the model\n",
    "accuracy = accuracy_score(y_test, y_pred)\n",
    "\n",
    "print(f'Model accuracy: {accuracy}')\n"
   ]
  },
  {
   "attachments": {},
   "cell_type": "markdown",
   "metadata": {},
   "source": [
    "Accuracy tells us the proportion of instances that our model predicted correctly. However, it's not always the best metric, especially if our classes are imbalanced. Therefore, we'll also look at a confusion matrix and the classification report, which gives us precision, recall, and f1-score:"
   ]
  },
  {
   "cell_type": "code",
   "execution_count": 13,
   "metadata": {},
   "outputs": [
    {
     "name": "stdout",
     "output_type": "stream",
     "text": [
      "[[119  46  20]\n",
      " [ 48  67  31]\n",
      " [ 39  36  94]]\n",
      "              precision    recall  f1-score   support\n",
      "\n",
      "           0       0.58      0.64      0.61       185\n",
      "           1       0.45      0.46      0.45       146\n",
      "           2       0.65      0.56      0.60       169\n",
      "\n",
      "    accuracy                           0.56       500\n",
      "   macro avg       0.56      0.55      0.55       500\n",
      "weighted avg       0.56      0.56      0.56       500\n",
      "\n"
     ]
    }
   ],
   "source": [
    "from sklearn.metrics import confusion_matrix, classification_report\n",
    "\n",
    "# Print the confusion matrix\n",
    "print(confusion_matrix(y_test, y_pred))\n",
    "\n",
    "# Print the classification report\n",
    "print(classification_report(y_test, y_pred))\n"
   ]
  },
  {
   "attachments": {},
   "cell_type": "markdown",
   "metadata": {},
   "source": [
    "These metrics will give us a more nuanced understanding of our model's performance. Precision tells us the proportion of positive identifications that were actually correct, recall tells us the proportion of actual positives that were identified correctly, and the f1-score is a combination of both."
   ]
  },
  {
   "attachments": {},
   "cell_type": "markdown",
   "metadata": {},
   "source": [
    "## Step 6: Hyperparameter Tuning"
   ]
  },
  {
   "attachments": {},
   "cell_type": "markdown",
   "metadata": {},
   "source": [
    "Machine learning models have several hyperparameters that we can tune to improve their performance. For Random Forests, some important hyperparameters include the number of trees in the forest (n_estimators), the function to measure the quality of a split (criterion), and the maximum depth of the tree (max_depth).\n",
    "\n",
    "One common method for hyperparameter tuning is grid search. This involves specifying a range of potential values for different hyperparameters, and then testing the model's performance across all possible combinations.\n",
    "\n",
    "Let's perform a grid search with cross-validation on our Random Forest model:"
   ]
  },
  {
   "cell_type": "code",
   "execution_count": 14,
   "metadata": {},
   "outputs": [
    {
     "name": "stdout",
     "output_type": "stream",
     "text": [
      "Best parameters: {'criterion': 'gini', 'max_depth': 10, 'n_estimators': 100}\n",
      "Best score: 0.617\n"
     ]
    }
   ],
   "source": [
    "from sklearn.model_selection import GridSearchCV\n",
    "\n",
    "# Define the grid of hyperparameters\n",
    "param_grid = {\n",
    "    'n_estimators': [50, 100, 200],\n",
    "    'criterion': ['gini', 'entropy'],\n",
    "    'max_depth': [None, 10, 20, 30],\n",
    "}\n",
    "\n",
    "# Initialize the grid search\n",
    "grid_search = GridSearchCV(model, param_grid, cv=5)\n",
    "\n",
    "# Fit it to the data and find the best parameters\n",
    "grid_search.fit(X_train, y_train)\n",
    "\n",
    "# Print the best parameters and the corresponding score\n",
    "print(f\"Best parameters: {grid_search.best_params_}\")\n",
    "print(f\"Best score: {grid_search.best_score_}\")\n"
   ]
  },
  {
   "attachments": {},
   "cell_type": "markdown",
   "metadata": {},
   "source": [
    "This will print out the best parameters found by grid search, and the corresponding cross-validation score.\n",
    "\n",
    "Keep in mind that grid search can take a while, especially if we have a large range of hyperparameters. Start with a smaller range, and then refine the search based on the results.\n",
    "\n",
    "After finding the best parameters, we can use them to create a new model and evaluate its performance.\n",
    "\n",
    "Remember, machine learning is an iterative process, and there's always more we can do to improve our model, from more extensive hyperparameter tuning, trying different models, to going back and doing more feature engineering. The key is to keep experimenting and learning."
   ]
  },
  {
   "attachments": {},
   "cell_type": "markdown",
   "metadata": {},
   "source": [
    "## Step 7: Training the Final Model and Making Predictions\n"
   ]
  },
  {
   "attachments": {},
   "cell_type": "markdown",
   "metadata": {},
   "source": [
    "Now that we've found our best parameters using grid search, we can use these to train our final model and make predictions. Remember that the final evaluation should be done on the test set to get an unbiased estimate of the model's performance:"
   ]
  },
  {
   "cell_type": "code",
   "execution_count": 15,
   "metadata": {},
   "outputs": [],
   "source": [
    "# Initialize a new model with the best parameters\n",
    "final_model = RandomForestClassifier(**grid_search.best_params_, random_state=42)\n",
    "\n",
    "# Train the model\n",
    "final_model.fit(X_train, y_train)\n",
    "\n",
    "# Make predictions on the test set\n",
    "final_y_pred = final_model.predict(X_test)"
   ]
  },
  {
   "attachments": {},
   "cell_type": "markdown",
   "metadata": {},
   "source": [
    "You can then evaluate this final model just as before:"
   ]
  },
  {
   "cell_type": "code",
   "execution_count": 16,
   "metadata": {},
   "outputs": [
    {
     "name": "stdout",
     "output_type": "stream",
     "text": [
      "Final model accuracy: 0.58\n",
      "[[131  39  15]\n",
      " [ 51  66  29]\n",
      " [ 44  32  93]]\n",
      "              precision    recall  f1-score   support\n",
      "\n",
      "           0       0.58      0.71      0.64       185\n",
      "           1       0.48      0.45      0.47       146\n",
      "           2       0.68      0.55      0.61       169\n",
      "\n",
      "    accuracy                           0.58       500\n",
      "   macro avg       0.58      0.57      0.57       500\n",
      "weighted avg       0.58      0.58      0.58       500\n",
      "\n"
     ]
    }
   ],
   "source": [
    "# Calculate the final accuracy\n",
    "final_accuracy = accuracy_score(y_test, final_y_pred)\n",
    "\n",
    "# Print the final confusion matrix and classification report\n",
    "print(f'Final model accuracy: {final_accuracy}')\n",
    "print(confusion_matrix(y_test, final_y_pred))\n",
    "print(classification_report(y_test, final_y_pred))"
   ]
  },
  {
   "attachments": {},
   "cell_type": "markdown",
   "metadata": {},
   "source": [
    "This will give us the performance of our final, tuned model."
   ]
  },
  {
   "attachments": {},
   "cell_type": "markdown",
   "metadata": {},
   "source": [
    "## Step 8: Document your Findings"
   ]
  },
  {
   "attachments": {},
   "cell_type": "markdown",
   "metadata": {},
   "source": []
  }
 ],
 "metadata": {
  "kernelspec": {
   "display_name": ".venv",
   "language": "python",
   "name": "python3"
  },
  "language_info": {
   "codemirror_mode": {
    "name": "ipython",
    "version": 3
   },
   "file_extension": ".py",
   "mimetype": "text/x-python",
   "name": "python",
   "nbconvert_exporter": "python",
   "pygments_lexer": "ipython3",
   "version": "3.9.6"
  },
  "orig_nbformat": 4
 },
 "nbformat": 4,
 "nbformat_minor": 2
}
